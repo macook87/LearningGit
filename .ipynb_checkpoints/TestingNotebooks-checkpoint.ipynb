{
 "cells": [
  {
   "cell_type": "code",
   "execution_count": 1,
   "id": "67ac085d-5d3a-42cd-a9ce-3e17be8633f6",
   "metadata": {},
   "outputs": [
    {
     "name": "stdout",
     "output_type": "stream",
     "text": [
      "hello world\n"
     ]
    }
   ],
   "source": [
    "print(\"hello world\")"
   ]
  },
  {
   "cell_type": "markdown",
   "id": "fd7cff51-e81d-455b-b95f-637e0fd95ad9",
   "metadata": {},
   "source": [
    "# Header 1\n",
    "## Header 2\n",
    "hello!"
   ]
  },
  {
   "cell_type": "code",
   "execution_count": null,
   "id": "8ea35ea3-1dba-4704-8c5a-be08a2557ad8",
   "metadata": {},
   "outputs": [],
   "source": []
  }
 ],
 "metadata": {
  "kernelspec": {
   "display_name": "Python 3 (ipykernel)",
   "language": "python",
   "name": "python3"
  },
  "language_info": {
   "codemirror_mode": {
    "name": "ipython",
    "version": 3
   },
   "file_extension": ".py",
   "mimetype": "text/x-python",
   "name": "python",
   "nbconvert_exporter": "python",
   "pygments_lexer": "ipython3",
   "version": "3.12.4"
  }
 },
 "nbformat": 4,
 "nbformat_minor": 5
}
